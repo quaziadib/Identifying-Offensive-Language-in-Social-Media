{
  "cells": [
    {
      "cell_type": "code",
      "execution_count": 1,
      "metadata": {
        "id": "7hDZOu90CWtb"
      },
      "outputs": [],
      "source": [
        "import pandas as pd\n",
        "import nltk\n",
        "from sklearn.model_selection import train_test_split as tts\n",
        "import seaborn as sns\n",
        "import matplotlib.pyplot as plt\n"
      ]
    },
    {
      "cell_type": "code",
      "execution_count": 2,
      "metadata": {
        "colab": {
          "base_uri": "https://localhost:8080/"
        },
        "id": "G_rdQnHm_F3l",
        "outputId": "5f3c5437-a4a1-476f-b077-d5c4e3903b06"
      },
      "outputs": [
        {
          "output_type": "stream",
          "name": "stdout",
          "text": [
            "[nltk_data] Downloading package punkt to /root/nltk_data...\n",
            "[nltk_data]   Unzipping tokenizers/punkt.zip.\n"
          ]
        },
        {
          "output_type": "execute_result",
          "data": {
            "text/plain": [
              "True"
            ]
          },
          "metadata": {},
          "execution_count": 2
        }
      ],
      "source": [
        "nltk.download('punkt')"
      ]
    },
    {
      "cell_type": "code",
      "execution_count": 3,
      "metadata": {
        "id": "xklsHyBQH1Qp"
      },
      "outputs": [],
      "source": [
        "df = pd.read_csv('/content/drive/MyDrive/CSE440 Project/olid-training-v1.0.tsv', sep=\"\\t\")"
      ]
    },
    {
      "cell_type": "code",
      "execution_count": 4,
      "metadata": {
        "colab": {
          "base_uri": "https://localhost:8080/",
          "height": 206
        },
        "id": "g9eZUEx1H5PR",
        "outputId": "04c4269f-f9eb-4ba4-c689-e45e90edfbd4"
      },
      "outputs": [
        {
          "output_type": "execute_result",
          "data": {
            "text/plain": [
              "      id                                              tweet subtask_a  \\\n",
              "0  86426  @USER She should ask a few native Americans wh...       OFF   \n",
              "1  90194  @USER @USER Go home you’re drunk!!! @USER #MAG...       OFF   \n",
              "2  16820  Amazon is investigating Chinese employees who ...       NOT   \n",
              "3  62688  @USER Someone should'veTaken\" this piece of sh...       OFF   \n",
              "4  43605  @USER @USER Obama wanted liberals &amp; illega...       NOT   \n",
              "\n",
              "  subtask_b subtask_c  \n",
              "0       UNT       NaN  \n",
              "1       TIN       IND  \n",
              "2       NaN       NaN  \n",
              "3       UNT       NaN  \n",
              "4       NaN       NaN  "
            ],
            "text/html": [
              "\n",
              "  <div id=\"df-58882153-0203-40b5-b4c0-5c19e7f5a58d\">\n",
              "    <div class=\"colab-df-container\">\n",
              "      <div>\n",
              "<style scoped>\n",
              "    .dataframe tbody tr th:only-of-type {\n",
              "        vertical-align: middle;\n",
              "    }\n",
              "\n",
              "    .dataframe tbody tr th {\n",
              "        vertical-align: top;\n",
              "    }\n",
              "\n",
              "    .dataframe thead th {\n",
              "        text-align: right;\n",
              "    }\n",
              "</style>\n",
              "<table border=\"1\" class=\"dataframe\">\n",
              "  <thead>\n",
              "    <tr style=\"text-align: right;\">\n",
              "      <th></th>\n",
              "      <th>id</th>\n",
              "      <th>tweet</th>\n",
              "      <th>subtask_a</th>\n",
              "      <th>subtask_b</th>\n",
              "      <th>subtask_c</th>\n",
              "    </tr>\n",
              "  </thead>\n",
              "  <tbody>\n",
              "    <tr>\n",
              "      <th>0</th>\n",
              "      <td>86426</td>\n",
              "      <td>@USER She should ask a few native Americans wh...</td>\n",
              "      <td>OFF</td>\n",
              "      <td>UNT</td>\n",
              "      <td>NaN</td>\n",
              "    </tr>\n",
              "    <tr>\n",
              "      <th>1</th>\n",
              "      <td>90194</td>\n",
              "      <td>@USER @USER Go home you’re drunk!!! @USER #MAG...</td>\n",
              "      <td>OFF</td>\n",
              "      <td>TIN</td>\n",
              "      <td>IND</td>\n",
              "    </tr>\n",
              "    <tr>\n",
              "      <th>2</th>\n",
              "      <td>16820</td>\n",
              "      <td>Amazon is investigating Chinese employees who ...</td>\n",
              "      <td>NOT</td>\n",
              "      <td>NaN</td>\n",
              "      <td>NaN</td>\n",
              "    </tr>\n",
              "    <tr>\n",
              "      <th>3</th>\n",
              "      <td>62688</td>\n",
              "      <td>@USER Someone should'veTaken\" this piece of sh...</td>\n",
              "      <td>OFF</td>\n",
              "      <td>UNT</td>\n",
              "      <td>NaN</td>\n",
              "    </tr>\n",
              "    <tr>\n",
              "      <th>4</th>\n",
              "      <td>43605</td>\n",
              "      <td>@USER @USER Obama wanted liberals &amp;amp; illega...</td>\n",
              "      <td>NOT</td>\n",
              "      <td>NaN</td>\n",
              "      <td>NaN</td>\n",
              "    </tr>\n",
              "  </tbody>\n",
              "</table>\n",
              "</div>\n",
              "      <button class=\"colab-df-convert\" onclick=\"convertToInteractive('df-58882153-0203-40b5-b4c0-5c19e7f5a58d')\"\n",
              "              title=\"Convert this dataframe to an interactive table.\"\n",
              "              style=\"display:none;\">\n",
              "        \n",
              "  <svg xmlns=\"http://www.w3.org/2000/svg\" height=\"24px\"viewBox=\"0 0 24 24\"\n",
              "       width=\"24px\">\n",
              "    <path d=\"M0 0h24v24H0V0z\" fill=\"none\"/>\n",
              "    <path d=\"M18.56 5.44l.94 2.06.94-2.06 2.06-.94-2.06-.94-.94-2.06-.94 2.06-2.06.94zm-11 1L8.5 8.5l.94-2.06 2.06-.94-2.06-.94L8.5 2.5l-.94 2.06-2.06.94zm10 10l.94 2.06.94-2.06 2.06-.94-2.06-.94-.94-2.06-.94 2.06-2.06.94z\"/><path d=\"M17.41 7.96l-1.37-1.37c-.4-.4-.92-.59-1.43-.59-.52 0-1.04.2-1.43.59L10.3 9.45l-7.72 7.72c-.78.78-.78 2.05 0 2.83L4 21.41c.39.39.9.59 1.41.59.51 0 1.02-.2 1.41-.59l7.78-7.78 2.81-2.81c.8-.78.8-2.07 0-2.86zM5.41 20L4 18.59l7.72-7.72 1.47 1.35L5.41 20z\"/>\n",
              "  </svg>\n",
              "      </button>\n",
              "      \n",
              "  <style>\n",
              "    .colab-df-container {\n",
              "      display:flex;\n",
              "      flex-wrap:wrap;\n",
              "      gap: 12px;\n",
              "    }\n",
              "\n",
              "    .colab-df-convert {\n",
              "      background-color: #E8F0FE;\n",
              "      border: none;\n",
              "      border-radius: 50%;\n",
              "      cursor: pointer;\n",
              "      display: none;\n",
              "      fill: #1967D2;\n",
              "      height: 32px;\n",
              "      padding: 0 0 0 0;\n",
              "      width: 32px;\n",
              "    }\n",
              "\n",
              "    .colab-df-convert:hover {\n",
              "      background-color: #E2EBFA;\n",
              "      box-shadow: 0px 1px 2px rgba(60, 64, 67, 0.3), 0px 1px 3px 1px rgba(60, 64, 67, 0.15);\n",
              "      fill: #174EA6;\n",
              "    }\n",
              "\n",
              "    [theme=dark] .colab-df-convert {\n",
              "      background-color: #3B4455;\n",
              "      fill: #D2E3FC;\n",
              "    }\n",
              "\n",
              "    [theme=dark] .colab-df-convert:hover {\n",
              "      background-color: #434B5C;\n",
              "      box-shadow: 0px 1px 3px 1px rgba(0, 0, 0, 0.15);\n",
              "      filter: drop-shadow(0px 1px 2px rgba(0, 0, 0, 0.3));\n",
              "      fill: #FFFFFF;\n",
              "    }\n",
              "  </style>\n",
              "\n",
              "      <script>\n",
              "        const buttonEl =\n",
              "          document.querySelector('#df-58882153-0203-40b5-b4c0-5c19e7f5a58d button.colab-df-convert');\n",
              "        buttonEl.style.display =\n",
              "          google.colab.kernel.accessAllowed ? 'block' : 'none';\n",
              "\n",
              "        async function convertToInteractive(key) {\n",
              "          const element = document.querySelector('#df-58882153-0203-40b5-b4c0-5c19e7f5a58d');\n",
              "          const dataTable =\n",
              "            await google.colab.kernel.invokeFunction('convertToInteractive',\n",
              "                                                     [key], {});\n",
              "          if (!dataTable) return;\n",
              "\n",
              "          const docLinkHtml = 'Like what you see? Visit the ' +\n",
              "            '<a target=\"_blank\" href=https://colab.research.google.com/notebooks/data_table.ipynb>data table notebook</a>'\n",
              "            + ' to learn more about interactive tables.';\n",
              "          element.innerHTML = '';\n",
              "          dataTable['output_type'] = 'display_data';\n",
              "          await google.colab.output.renderOutput(dataTable, element);\n",
              "          const docLink = document.createElement('div');\n",
              "          docLink.innerHTML = docLinkHtml;\n",
              "          element.appendChild(docLink);\n",
              "        }\n",
              "      </script>\n",
              "    </div>\n",
              "  </div>\n",
              "  "
            ]
          },
          "metadata": {},
          "execution_count": 4
        }
      ],
      "source": [
        "df.head()"
      ]
    },
    {
      "cell_type": "code",
      "execution_count": 5,
      "metadata": {
        "id": "tzr8yqnZIFIf"
      },
      "outputs": [],
      "source": [
        "X, y = df.tweet, df.subtask_a"
      ]
    },
    {
      "cell_type": "code",
      "execution_count": 6,
      "metadata": {
        "id": "sTL6vywhIPfd"
      },
      "outputs": [],
      "source": [
        "X_train, X_valid, y_train, y_valid = tts(X, y, test_size = .2, random_state = 42)"
      ]
    },
    {
      "cell_type": "code",
      "execution_count": 7,
      "metadata": {
        "id": "fDMzvWzwKhUV"
      },
      "outputs": [],
      "source": [
        "X_train.to_csv('/content/drive/MyDrive/CSE440 Project/X_train.csv', index=False)\n",
        "X_valid.to_csv('/content/drive/MyDrive/CSE440 Project/X_valid.csv', index=False)\n",
        "y_train.to_csv('/content/drive/MyDrive/CSE440 Project/y_train.csv', index=False)\n",
        "y_valid.to_csv('/content/drive/MyDrive/CSE440 Project/y_valid.csv', index=False)"
      ]
    },
    {
      "cell_type": "code",
      "source": [
        "y_train.value_counts()"
      ],
      "metadata": {
        "colab": {
          "base_uri": "https://localhost:8080/"
        },
        "id": "BeBsKqemFeLP",
        "outputId": "37a7d6c5-a8bd-46bb-f561-e678d56e8ad2"
      },
      "execution_count": 8,
      "outputs": [
        {
          "output_type": "execute_result",
          "data": {
            "text/plain": [
              "NOT    7107\n",
              "OFF    3485\n",
              "Name: subtask_a, dtype: int64"
            ]
          },
          "metadata": {},
          "execution_count": 8
        }
      ]
    },
    {
      "cell_type": "code",
      "execution_count": 9,
      "metadata": {
        "colab": {
          "base_uri": "https://localhost:8080/"
        },
        "id": "kyWVlOx9TYNf",
        "outputId": "5a78a1e5-8b8e-42eb-cb2e-d9e5890a193c"
      },
      "outputs": [
        {
          "output_type": "execute_result",
          "data": {
            "text/plain": [
              "NOT    1733\n",
              "OFF     915\n",
              "Name: subtask_a, dtype: int64"
            ]
          },
          "metadata": {},
          "execution_count": 9
        }
      ],
      "source": [
        "y_valid.value_counts()"
      ]
    },
    {
      "cell_type": "markdown",
      "metadata": {
        "id": "xr32wrfbR7rk"
      },
      "source": [
        "# Data Preprocessing"
      ]
    },
    {
      "cell_type": "code",
      "execution_count": 10,
      "metadata": {
        "colab": {
          "base_uri": "https://localhost:8080/"
        },
        "id": "LVhrUJ2qdbmP",
        "outputId": "b35623bd-5dbc-4549-8a21-de775426f503"
      },
      "outputs": [
        {
          "output_type": "stream",
          "name": "stdout",
          "text": [
            "[nltk_data] Downloading package stopwords to /root/nltk_data...\n",
            "[nltk_data]   Unzipping corpora/stopwords.zip.\n",
            "[nltk_data] Downloading package wordnet to /root/nltk_data...\n",
            "[nltk_data]   Unzipping corpora/wordnet.zip.\n"
          ]
        }
      ],
      "source": [
        "import string\n",
        "from nltk.tokenize import word_tokenize\n",
        "from nltk.stem.wordnet import WordNetLemmatizer\n",
        "import pandas as pd\n",
        "from nltk.corpus import stopwords\n",
        "\n",
        "nltk.download('stopwords')\n",
        "nltk.download('wordnet')\n",
        "punctuations = list(string.punctuation)\n",
        "stopword = list(stopwords.words('english'))\n",
        "def preprocessingTraditionalLANG(d):\n",
        "    tokens = word_tokenize(d)\n",
        "    final_token = []\n",
        "    x = WordNetLemmatizer()\n",
        "    for token in tokens:\n",
        "        if token not in punctuations:\n",
        "            if token =='USER' or token == 'URL' or token.lower in stopword:\n",
        "                #final_token.append(token)\n",
        "                continue\n",
        "            else:\n",
        "                final_token.append(x.lemmatize(token.lower()))\n",
        "\n",
        "    st = ' '.join(final_token)\n",
        "    return st\n",
        "\n",
        "def preprocessing_TRANSFORMER(d):\n",
        "    tokens = word_tokenize(d)\n",
        "    st = '[CLS] ' + ' '.join(tokens) + ' [SEP]'\n",
        "    return st\n",
        "\n",
        "def label_encoder(d):\n",
        "    if 'N' in d: return 0\n",
        "    else: return 1\n",
        "\n",
        "def main():\n",
        "    X_train = pd.read_csv('/content/drive/MyDrive/CSE440 Project/X_train.csv')\n",
        "    X_valid = pd.read_csv('/content/drive/MyDrive/CSE440 Project/X_valid.csv')\n",
        "    y_train = pd.read_csv('/content/drive/MyDrive/CSE440 Project/y_train.csv')\n",
        "    y_valid = pd.read_csv('/content/drive/MyDrive/CSE440 Project/y_valid.csv')\n",
        "\n",
        "\n",
        "    \n",
        "    y_train.subtask_a = y_train.subtask_a.apply(label_encoder)\n",
        "    y_valid.subtask_a = y_valid.subtask_a.apply(label_encoder)\n",
        "    y_train.to_csv('/content/drive/MyDrive/CSE440 Project/Preprocessing_Trad/y_train.csv', index=False)\n",
        "    y_valid.to_csv('/content/drive/MyDrive/CSE440 Project/Preprocessing_Trans/y_valid.csv', index=False)\n",
        "    y_train.to_csv('/content/drive/MyDrive/CSE440 Project/Preprocessing_Trans/y_train.csv', index=False)\n",
        "    y_valid.to_csv('/content/drive/MyDrive/CSE440 Project/Preprocessing_Trad/y_valid.csv', index=False)\n",
        "\n",
        "    X_train['tweet'] = X_train.tweet.apply(preprocessingTraditionalLANG)\n",
        "    X_valid['tweet'] = X_valid.tweet.apply(preprocessingTraditionalLANG)\n",
        "    X_train.to_csv('/content/drive/MyDrive/CSE440 Project/Preprocessing_Trad/X_train_trad.csv', index=False)\n",
        "    X_valid.to_csv('/content/drive/MyDrive/CSE440 Project/Preprocessing_Trad/X_valid_trad.csv', index=False)\n",
        "    \n",
        "\n",
        "    X_train = pd.read_csv('/content/drive/MyDrive/CSE440 Project/X_train.csv')\n",
        "    X_valid = pd.read_csv('/content/drive/MyDrive/CSE440 Project/X_valid.csv')\n",
        "    X_train['tweet'] = X_train.tweet.apply(preprocessing_TRANSFORMER)\n",
        "    X_valid['tweet'] = X_valid.tweet.apply(preprocessing_TRANSFORMER)\n",
        "    X_train.to_csv('/content/drive/MyDrive/CSE440 Project/Preprocessing_Trans/X_train_trans.csv', index=False)\n",
        "    X_valid.to_csv('/content/drive/MyDrive/CSE440 Project/Preprocessing_Trans/X_valid_trans.csv', index=False)"
      ]
    },
    {
      "cell_type": "code",
      "execution_count": 11,
      "metadata": {
        "id": "08HEfs_SOiOh"
      },
      "outputs": [],
      "source": [
        "main()"
      ]
    },
    {
      "cell_type": "markdown",
      "metadata": {
        "id": "8kwqTJnVGngh"
      },
      "source": [
        "# LIN Feature "
      ]
    },
    {
      "cell_type": "code",
      "execution_count": 12,
      "metadata": {
        "id": "VuSdXJsrGm3C"
      },
      "outputs": [],
      "source": [
        "from sklearn.feature_extraction.text import TfidfVectorizer, CountVectorizer\n",
        "from sklearn.metrics import confusion_matrix, f1_score, classification_report\n",
        "import pandas as pd\n",
        "from sklearn.svm import LinearSVC\n",
        "\n",
        "\n",
        "def data_loader(X_train, y_train, X_valid, y_valid, n1, n2, tp = 'tfidf', feature_type=None):\n",
        "\n",
        "    print(feature_type)\n",
        "    if tp == 'tfidf':\n",
        "        tfidf = TfidfVectorizer(ngram_range=(n1, n2), stop_words='english')\n",
        "        x_train = tfidf.fit_transform(X_train.loc[:, 'tweet'].values)\n",
        "        x_valid = tfidf.transform(X_valid.loc[:, 'tweet'].values)\n",
        "\n",
        "        x_train = pd.DataFrame.sparse.from_spmatrix(x_train, columns = tfidf.get_feature_names_out())\n",
        "        x_valid = pd.DataFrame.sparse.from_spmatrix(x_valid, columns = tfidf.get_feature_names_out())\n",
        "        \n",
        "        model = LinearSVC(max_iter=10000)\n",
        "        model.fit(x_train, y_train.subtask_a)\n",
        "        pred = model.predict(x_valid)\n",
        "        cf = confusion_matrix(y_valid.subtask_a, pred)\n",
        "        f1 = f1_score(y_valid.subtask_a, pred)\n",
        "        print(\"Confusion Matrix\")\n",
        "        print(cf)\n",
        "        print(f\"F1 Score: {f1}\")\n",
        "        print(classification_report(y_valid.subtask_a, pred))\n",
        "\n",
        "    elif tp=='cv':\n",
        "        cv = CountVectorizer(ngram_range=(n1, n2), stop_words='english')\n",
        "        x_train = cv.fit_transform(X_train.loc[:, 'tweet'].values)\n",
        "        #x_test = cv.transform(x_test)\n",
        "        x_valid = cv.transform(X_valid.loc[:, 'tweet'].values)\n",
        "\n",
        "        x_train = pd.DataFrame.sparse.from_spmatrix(x_train, columns = cv.get_feature_names_out())\n",
        "        x_valid = pd.DataFrame.sparse.from_spmatrix(x_valid, columns = cv.get_feature_names_out())\n",
        "\n",
        "        \n",
        "        model = LinearSVC(max_iter=10000)\n",
        "        model.fit(x_train, y_train.subtask_a)\n",
        "        pred = model.predict(x_valid)\n",
        "        cf = confusion_matrix(y_valid.subtask_a, pred)\n",
        "        f1 = f1_score(y_valid.subtask_a, pred)\n",
        "        print(\"Confusion Matrix\")\n",
        "        print(cf)\n",
        "        print(f\"F1 Score: {f1}\")\n",
        "        print(classification_report(y_valid.subtask_a, pred))\n",
        "        #x_test.to_csv(f'/content/drive/MyDrive/CSE440 Project/X_test_cv_{n1}-{n2}_gram.csv')\n",
        "    \n",
        "\n",
        "def u_tfidf(X_train, y_train, X_valid, y_valid):\n",
        "    data_loader(X_train, y_train, X_valid, y_valid, 1,1,'tfidf', 'u_tfidf')\n",
        "\n",
        "def bi_tfidf(X_train, y_train, X_valid, y_valid):\n",
        "    data_loader(X_train, y_train, X_valid, y_valid, 2,2, 'tfidf', 'bi_tfidf')\n",
        "\n",
        "def tri_tfidf(X_train, y_train, X_valid, y_valid):\n",
        "    data_loader(X_train, y_train, X_valid, y_valid, 3,3, 'tfidf', 'tri_tfidf')\n",
        "\n",
        "def u_bi_tfidf(X_train, y_train, X_valid, y_valid):\n",
        "    data_loader(X_train, y_train, X_valid, y_valid, 1,2, 'tfidf', 'u_bi_tfidf')\n",
        "\n",
        "def bi_tri_tfidf(X_train, y_train, X_valid, y_valid):\n",
        "    data_loader(X_train, y_train, X_valid, y_valid, 2,3, 'tfidf', 'bi_tri_tfidf')\n",
        "\n",
        "def u_bi_tri_tfidf(X_train, y_train, X_valid, y_valid):\n",
        "    data_loader(X_train, y_train, X_valid, y_valid, 1,3, 'tfidf', 'u_bi_tri_tfidf')\n",
        "\n",
        "\n",
        "def u_cv(X_train, y_train, X_valid, y_valid):\n",
        "    data_loader(X_train, y_train, X_valid, y_valid, 1,1, 'cv', 'u_cv')\n",
        "\n",
        "def bi_cv(X_train, y_train, X_valid, y_valid):\n",
        "    data_loader(X_train, y_train, X_valid, y_valid, 2,2, 'cv', 'bi_cv')\n",
        "\n",
        "def tri_cv(X_train, y_train, X_valid, y_valid):\n",
        "    data_loader(X_train, y_train, X_valid, y_valid, 3,3, 'cv', 'tri_cv')\n",
        "\n",
        "def u_bi_cv(X_train, y_train, X_valid, y_valid):\n",
        "    data_loader(X_train, y_train, X_valid, y_valid, 1,2, 'cv', 'u_bi_cv')\n",
        "\n",
        "def bi_tri_cv(X_train, y_train, X_valid, y_valid):\n",
        "    data_loader(X_train, y_train, X_valid, y_valid, 2, 3, 'cv', 'bi_tri_cv')\n",
        "\n",
        "def u_bi_tri_cv(X_train, y_train, X_valid, y_valid):\n",
        "    data_loader(X_train, y_train, X_valid, y_valid, 1,3, 'cv', 'u_bi_tri_cv')\n",
        "\n",
        "\n",
        "def main():\n",
        "    X_train_trad = pd.read_csv('/content/drive/MyDrive/CSE440 Project/Preprocessing_Trad/X_train_trad.csv')\n",
        "    X_valid_trad = pd.read_csv('/content/drive/MyDrive/CSE440 Project/Preprocessing_Trad/X_valid_trad.csv')\n",
        "    y_train = pd.read_csv('/content/drive/MyDrive/CSE440 Project/Preprocessing_Trad/y_train.csv')\n",
        "    y_valid = pd.read_csv('/content/drive/MyDrive/CSE440 Project/Preprocessing_Trad/y_valid.csv')\n",
        "    \n",
        "    u_tfidf(X_train_trad, y_train, X_valid_trad, y_valid)\n",
        "    bi_tfidf(X_train_trad, y_train, X_valid_trad, y_valid)\n",
        "    tri_tfidf(X_train_trad, y_train, X_valid_trad, y_valid)\n",
        "    u_bi_tfidf(X_train_trad, y_train, X_valid_trad, y_valid)\n",
        "    bi_tri_tfidf(X_train_trad, y_train, X_valid_trad, y_valid)\n",
        "    u_bi_tri_tfidf(X_train_trad, y_train, X_valid_trad, y_valid)\n",
        "\n",
        "    u_cv(X_train_trad, y_train, X_valid_trad, y_valid)\n",
        "    bi_cv(X_train_trad, y_train, X_valid_trad, y_valid)\n",
        "    tri_cv(X_train_trad, y_train, X_valid_trad, y_valid)\n",
        "    u_bi_cv(X_train_trad, y_train, X_valid_trad, y_valid)\n",
        "    bi_tri_cv(X_train_trad, y_train, X_valid_trad, y_valid)\n",
        "    u_bi_tri_cv(X_train_trad, y_train, X_valid_trad, y_valid)\n",
        "\n"
      ]
    },
    {
      "cell_type": "code",
      "execution_count": 13,
      "metadata": {
        "colab": {
          "base_uri": "https://localhost:8080/"
        },
        "id": "Mh6v5a7nTc5F",
        "outputId": "4e9fa53b-fc3d-43f0-e1cf-0e47c44c0834"
      },
      "outputs": [
        {
          "output_type": "stream",
          "name": "stdout",
          "text": [
            "u_tfidf\n",
            "Confusion Matrix\n",
            "[[1520  213]\n",
            " [ 426  489]]\n",
            "F1 Score: 0.6048237476808905\n",
            "              precision    recall  f1-score   support\n",
            "\n",
            "           0       0.78      0.88      0.83      1733\n",
            "           1       0.70      0.53      0.60       915\n",
            "\n",
            "    accuracy                           0.76      2648\n",
            "   macro avg       0.74      0.71      0.72      2648\n",
            "weighted avg       0.75      0.76      0.75      2648\n",
            "\n",
            "bi_tfidf\n",
            "Confusion Matrix\n",
            "[[1599  134]\n",
            " [ 763  152]]\n",
            "F1 Score: 0.2531223980016653\n",
            "              precision    recall  f1-score   support\n",
            "\n",
            "           0       0.68      0.92      0.78      1733\n",
            "           1       0.53      0.17      0.25       915\n",
            "\n",
            "    accuracy                           0.66      2648\n",
            "   macro avg       0.60      0.54      0.52      2648\n",
            "weighted avg       0.63      0.66      0.60      2648\n",
            "\n",
            "tri_tfidf\n",
            "Confusion Matrix\n",
            "[[1703   30]\n",
            " [ 889   26]]\n",
            "F1 Score: 0.053553038105046344\n",
            "              precision    recall  f1-score   support\n",
            "\n",
            "           0       0.66      0.98      0.79      1733\n",
            "           1       0.46      0.03      0.05       915\n",
            "\n",
            "    accuracy                           0.65      2648\n",
            "   macro avg       0.56      0.51      0.42      2648\n",
            "weighted avg       0.59      0.65      0.53      2648\n",
            "\n",
            "u_bi_tfidf\n",
            "Confusion Matrix\n",
            "[[1509  224]\n",
            " [ 413  502]]\n",
            "F1 Score: 0.6118220597196832\n",
            "              precision    recall  f1-score   support\n",
            "\n",
            "           0       0.79      0.87      0.83      1733\n",
            "           1       0.69      0.55      0.61       915\n",
            "\n",
            "    accuracy                           0.76      2648\n",
            "   macro avg       0.74      0.71      0.72      2648\n",
            "weighted avg       0.75      0.76      0.75      2648\n",
            "\n",
            "bi_tri_tfidf\n",
            "Confusion Matrix\n",
            "[[1641   92]\n",
            " [ 805  110]]\n",
            "F1 Score: 0.19695613249776184\n",
            "              precision    recall  f1-score   support\n",
            "\n",
            "           0       0.67      0.95      0.79      1733\n",
            "           1       0.54      0.12      0.20       915\n",
            "\n",
            "    accuracy                           0.66      2648\n",
            "   macro avg       0.61      0.53      0.49      2648\n",
            "weighted avg       0.63      0.66      0.58      2648\n",
            "\n",
            "u_bi_tri_tfidf\n",
            "Confusion Matrix\n",
            "[[1488  245]\n",
            " [ 411  504]]\n",
            "F1 Score: 0.6057692307692308\n",
            "              precision    recall  f1-score   support\n",
            "\n",
            "           0       0.78      0.86      0.82      1733\n",
            "           1       0.67      0.55      0.61       915\n",
            "\n",
            "    accuracy                           0.75      2648\n",
            "   macro avg       0.73      0.70      0.71      2648\n",
            "weighted avg       0.75      0.75      0.75      2648\n",
            "\n",
            "u_cv\n",
            "Confusion Matrix\n",
            "[[1462  271]\n",
            " [ 382  533]]\n",
            "F1 Score: 0.620127981384526\n",
            "              precision    recall  f1-score   support\n",
            "\n",
            "           0       0.79      0.84      0.82      1733\n",
            "           1       0.66      0.58      0.62       915\n",
            "\n",
            "    accuracy                           0.75      2648\n",
            "   macro avg       0.73      0.71      0.72      2648\n",
            "weighted avg       0.75      0.75      0.75      2648\n",
            "\n",
            "bi_cv\n",
            "Confusion Matrix\n",
            "[[1654   79]\n",
            " [ 814  101]]\n",
            "F1 Score: 0.18447488584474886\n",
            "              precision    recall  f1-score   support\n",
            "\n",
            "           0       0.67      0.95      0.79      1733\n",
            "           1       0.56      0.11      0.18       915\n",
            "\n",
            "    accuracy                           0.66      2648\n",
            "   macro avg       0.62      0.53      0.49      2648\n",
            "weighted avg       0.63      0.66      0.58      2648\n",
            "\n",
            "tri_cv\n",
            "Confusion Matrix\n",
            "[[1720   13]\n",
            " [ 904   11]]\n",
            "F1 Score: 0.023429179978700747\n",
            "              precision    recall  f1-score   support\n",
            "\n",
            "           0       0.66      0.99      0.79      1733\n",
            "           1       0.46      0.01      0.02       915\n",
            "\n",
            "    accuracy                           0.65      2648\n",
            "   macro avg       0.56      0.50      0.41      2648\n",
            "weighted avg       0.59      0.65      0.52      2648\n",
            "\n",
            "u_bi_cv\n",
            "Confusion Matrix\n",
            "[[1512  221]\n",
            " [ 423  492]]\n",
            "F1 Score: 0.6044226044226044\n",
            "              precision    recall  f1-score   support\n",
            "\n",
            "           0       0.78      0.87      0.82      1733\n",
            "           1       0.69      0.54      0.60       915\n",
            "\n",
            "    accuracy                           0.76      2648\n",
            "   macro avg       0.74      0.71      0.71      2648\n",
            "weighted avg       0.75      0.76      0.75      2648\n",
            "\n",
            "bi_tri_cv\n",
            "Confusion Matrix\n",
            "[[1680   53]\n",
            " [ 852   63]]\n",
            "F1 Score: 0.12221144519883607\n",
            "              precision    recall  f1-score   support\n",
            "\n",
            "           0       0.66      0.97      0.79      1733\n",
            "           1       0.54      0.07      0.12       915\n",
            "\n",
            "    accuracy                           0.66      2648\n",
            "   macro avg       0.60      0.52      0.46      2648\n",
            "weighted avg       0.62      0.66      0.56      2648\n",
            "\n",
            "u_bi_tri_cv\n",
            "Confusion Matrix\n",
            "[[1532  201]\n",
            " [ 436  479]]\n",
            "F1 Score: 0.6006269592476489\n",
            "              precision    recall  f1-score   support\n",
            "\n",
            "           0       0.78      0.88      0.83      1733\n",
            "           1       0.70      0.52      0.60       915\n",
            "\n",
            "    accuracy                           0.76      2648\n",
            "   macro avg       0.74      0.70      0.71      2648\n",
            "weighted avg       0.75      0.76      0.75      2648\n",
            "\n"
          ]
        }
      ],
      "source": [
        "main()"
      ]
    },
    {
      "cell_type": "markdown",
      "metadata": {
        "id": "AvpiGPd4O-FM"
      },
      "source": [
        "# Bi-LSTM\n",
        "\n",
        "Thanks to Niloy Farhan and https://github.com/shabbirg89/Youtube-2021/blob/main/Multiclass_Text_Classifier_LSTM.ipynb"
      ]
    },
    {
      "cell_type": "code",
      "source": [
        "%tensorflow_version 2.x\n",
        "import tensorflow as tf\n",
        "print(\"Tensorflow version \" + tf.__version__)\n",
        "\n",
        "try:\n",
        "  tpu = tf.distribute.cluster_resolver.TPUClusterResolver()  # TPU detection\n",
        "  print('Running on TPU ', tpu.cluster_spec().as_dict()['worker'])\n",
        "except ValueError:\n",
        "  raise BaseException('ERROR: Not connected to a TPU runtime; please see the previous cell in this notebook for instructions!')\n",
        "\n",
        "tf.config.experimental_connect_to_cluster(tpu)\n",
        "tf.tpu.experimental.initialize_tpu_system(tpu)\n",
        "tpu_strategy = tf.distribute.experimental.TPUStrategy(tpu)"
      ],
      "metadata": {
        "colab": {
          "base_uri": "https://localhost:8080/"
        },
        "id": "SCUTx5XWYhC-",
        "outputId": "2c1133e9-c2c1-4ccb-fa76-72b99956433e"
      },
      "execution_count": 32,
      "outputs": [
        {
          "output_type": "stream",
          "name": "stdout",
          "text": [
            "Tensorflow version 2.8.0\n",
            "Running on TPU  ['10.124.153.82:8470']\n",
            "INFO:tensorflow:Deallocate tpu buffers before initializing tpu system.\n"
          ]
        },
        {
          "output_type": "stream",
          "name": "stderr",
          "text": [
            "INFO:tensorflow:Deallocate tpu buffers before initializing tpu system.\n"
          ]
        },
        {
          "output_type": "stream",
          "name": "stdout",
          "text": [
            "WARNING:tensorflow:TPU system grpc://10.124.153.82:8470 has already been initialized. Reinitializing the TPU can cause previously created variables on TPU to be lost.\n"
          ]
        },
        {
          "output_type": "stream",
          "name": "stderr",
          "text": [
            "WARNING:tensorflow:TPU system grpc://10.124.153.82:8470 has already been initialized. Reinitializing the TPU can cause previously created variables on TPU to be lost.\n"
          ]
        },
        {
          "output_type": "stream",
          "name": "stdout",
          "text": [
            "INFO:tensorflow:Initializing the TPU system: grpc://10.124.153.82:8470\n"
          ]
        },
        {
          "output_type": "stream",
          "name": "stderr",
          "text": [
            "INFO:tensorflow:Initializing the TPU system: grpc://10.124.153.82:8470\n"
          ]
        },
        {
          "output_type": "stream",
          "name": "stdout",
          "text": [
            "INFO:tensorflow:Finished initializing TPU system.\n"
          ]
        },
        {
          "output_type": "stream",
          "name": "stderr",
          "text": [
            "INFO:tensorflow:Finished initializing TPU system.\n",
            "WARNING:absl:`tf.distribute.experimental.TPUStrategy` is deprecated, please use  the non experimental symbol `tf.distribute.TPUStrategy` instead.\n"
          ]
        },
        {
          "output_type": "stream",
          "name": "stdout",
          "text": [
            "INFO:tensorflow:Found TPU system:\n"
          ]
        },
        {
          "output_type": "stream",
          "name": "stderr",
          "text": [
            "INFO:tensorflow:Found TPU system:\n"
          ]
        },
        {
          "output_type": "stream",
          "name": "stdout",
          "text": [
            "INFO:tensorflow:*** Num TPU Cores: 8\n"
          ]
        },
        {
          "output_type": "stream",
          "name": "stderr",
          "text": [
            "INFO:tensorflow:*** Num TPU Cores: 8\n"
          ]
        },
        {
          "output_type": "stream",
          "name": "stdout",
          "text": [
            "INFO:tensorflow:*** Num TPU Workers: 1\n"
          ]
        },
        {
          "output_type": "stream",
          "name": "stderr",
          "text": [
            "INFO:tensorflow:*** Num TPU Workers: 1\n"
          ]
        },
        {
          "output_type": "stream",
          "name": "stdout",
          "text": [
            "INFO:tensorflow:*** Num TPU Cores Per Worker: 8\n"
          ]
        },
        {
          "output_type": "stream",
          "name": "stderr",
          "text": [
            "INFO:tensorflow:*** Num TPU Cores Per Worker: 8\n"
          ]
        },
        {
          "output_type": "stream",
          "name": "stdout",
          "text": [
            "INFO:tensorflow:*** Available Device: _DeviceAttributes(/job:localhost/replica:0/task:0/device:CPU:0, CPU, 0, 0)\n"
          ]
        },
        {
          "output_type": "stream",
          "name": "stderr",
          "text": [
            "INFO:tensorflow:*** Available Device: _DeviceAttributes(/job:localhost/replica:0/task:0/device:CPU:0, CPU, 0, 0)\n"
          ]
        },
        {
          "output_type": "stream",
          "name": "stdout",
          "text": [
            "INFO:tensorflow:*** Available Device: _DeviceAttributes(/job:worker/replica:0/task:0/device:CPU:0, CPU, 0, 0)\n"
          ]
        },
        {
          "output_type": "stream",
          "name": "stderr",
          "text": [
            "INFO:tensorflow:*** Available Device: _DeviceAttributes(/job:worker/replica:0/task:0/device:CPU:0, CPU, 0, 0)\n"
          ]
        },
        {
          "output_type": "stream",
          "name": "stdout",
          "text": [
            "INFO:tensorflow:*** Available Device: _DeviceAttributes(/job:worker/replica:0/task:0/device:TPU:0, TPU, 0, 0)\n"
          ]
        },
        {
          "output_type": "stream",
          "name": "stderr",
          "text": [
            "INFO:tensorflow:*** Available Device: _DeviceAttributes(/job:worker/replica:0/task:0/device:TPU:0, TPU, 0, 0)\n"
          ]
        },
        {
          "output_type": "stream",
          "name": "stdout",
          "text": [
            "INFO:tensorflow:*** Available Device: _DeviceAttributes(/job:worker/replica:0/task:0/device:TPU:1, TPU, 0, 0)\n"
          ]
        },
        {
          "output_type": "stream",
          "name": "stderr",
          "text": [
            "INFO:tensorflow:*** Available Device: _DeviceAttributes(/job:worker/replica:0/task:0/device:TPU:1, TPU, 0, 0)\n"
          ]
        },
        {
          "output_type": "stream",
          "name": "stdout",
          "text": [
            "INFO:tensorflow:*** Available Device: _DeviceAttributes(/job:worker/replica:0/task:0/device:TPU:2, TPU, 0, 0)\n"
          ]
        },
        {
          "output_type": "stream",
          "name": "stderr",
          "text": [
            "INFO:tensorflow:*** Available Device: _DeviceAttributes(/job:worker/replica:0/task:0/device:TPU:2, TPU, 0, 0)\n"
          ]
        },
        {
          "output_type": "stream",
          "name": "stdout",
          "text": [
            "INFO:tensorflow:*** Available Device: _DeviceAttributes(/job:worker/replica:0/task:0/device:TPU:3, TPU, 0, 0)\n"
          ]
        },
        {
          "output_type": "stream",
          "name": "stderr",
          "text": [
            "INFO:tensorflow:*** Available Device: _DeviceAttributes(/job:worker/replica:0/task:0/device:TPU:3, TPU, 0, 0)\n"
          ]
        },
        {
          "output_type": "stream",
          "name": "stdout",
          "text": [
            "INFO:tensorflow:*** Available Device: _DeviceAttributes(/job:worker/replica:0/task:0/device:TPU:4, TPU, 0, 0)\n"
          ]
        },
        {
          "output_type": "stream",
          "name": "stderr",
          "text": [
            "INFO:tensorflow:*** Available Device: _DeviceAttributes(/job:worker/replica:0/task:0/device:TPU:4, TPU, 0, 0)\n"
          ]
        },
        {
          "output_type": "stream",
          "name": "stdout",
          "text": [
            "INFO:tensorflow:*** Available Device: _DeviceAttributes(/job:worker/replica:0/task:0/device:TPU:5, TPU, 0, 0)\n"
          ]
        },
        {
          "output_type": "stream",
          "name": "stderr",
          "text": [
            "INFO:tensorflow:*** Available Device: _DeviceAttributes(/job:worker/replica:0/task:0/device:TPU:5, TPU, 0, 0)\n"
          ]
        },
        {
          "output_type": "stream",
          "name": "stdout",
          "text": [
            "INFO:tensorflow:*** Available Device: _DeviceAttributes(/job:worker/replica:0/task:0/device:TPU:6, TPU, 0, 0)\n"
          ]
        },
        {
          "output_type": "stream",
          "name": "stderr",
          "text": [
            "INFO:tensorflow:*** Available Device: _DeviceAttributes(/job:worker/replica:0/task:0/device:TPU:6, TPU, 0, 0)\n"
          ]
        },
        {
          "output_type": "stream",
          "name": "stdout",
          "text": [
            "INFO:tensorflow:*** Available Device: _DeviceAttributes(/job:worker/replica:0/task:0/device:TPU:7, TPU, 0, 0)\n"
          ]
        },
        {
          "output_type": "stream",
          "name": "stderr",
          "text": [
            "INFO:tensorflow:*** Available Device: _DeviceAttributes(/job:worker/replica:0/task:0/device:TPU:7, TPU, 0, 0)\n"
          ]
        },
        {
          "output_type": "stream",
          "name": "stdout",
          "text": [
            "INFO:tensorflow:*** Available Device: _DeviceAttributes(/job:worker/replica:0/task:0/device:TPU_SYSTEM:0, TPU_SYSTEM, 0, 0)\n"
          ]
        },
        {
          "output_type": "stream",
          "name": "stderr",
          "text": [
            "INFO:tensorflow:*** Available Device: _DeviceAttributes(/job:worker/replica:0/task:0/device:TPU_SYSTEM:0, TPU_SYSTEM, 0, 0)\n"
          ]
        },
        {
          "output_type": "stream",
          "name": "stdout",
          "text": [
            "INFO:tensorflow:*** Available Device: _DeviceAttributes(/job:worker/replica:0/task:0/device:XLA_CPU:0, XLA_CPU, 0, 0)\n"
          ]
        },
        {
          "output_type": "stream",
          "name": "stderr",
          "text": [
            "INFO:tensorflow:*** Available Device: _DeviceAttributes(/job:worker/replica:0/task:0/device:XLA_CPU:0, XLA_CPU, 0, 0)\n"
          ]
        }
      ]
    },
    {
      "cell_type": "code",
      "source": [
        "import numpy as np\n",
        "import pandas as pd\n",
        "from sklearn.model_selection import train_test_split\n",
        "import string\n",
        "import nltk\n",
        "from sklearn.metrics import confusion_matrix, f1_score, classification_report\n",
        "from tensorflow.keras.preprocessing.text import Tokenizer\n",
        "from tensorflow.keras.preprocessing.sequence import pad_sequences\n",
        "from tensorflow.keras.models import Sequential\n",
        "from tensorflow.keras.callbacks import EarlyStopping\n",
        "from tensorflow.keras.layers import Dense, Embedding, LSTM,SpatialDropout1D, Dropout, Bidirectional, Conv2D\n",
        "from keras.utils.np_utils import to_categorical\n",
        "from nltk.corpus import stopwords\n",
        "\n",
        "nltk.download('stopwords')\n",
        "nltk.download('wordnet')\n",
        "punctuations = list(string.punctuation)\n",
        "stopword = list(stopwords.words('english'))\n",
        "\n",
        "def preprocessingTraditionalLANG(d):\n",
        "    tokens = word_tokenize(d)\n",
        "    final_token = []\n",
        "    x = WordNetLemmatizer()\n",
        "    for token in tokens:\n",
        "        if token not in punctuations:\n",
        "            if token =='USER' or token == 'URL' or token.lower in stopword:\n",
        "                #final_token.append(token)\n",
        "                continue\n",
        "            else:\n",
        "                final_token.append(x.lemmatize(token.lower()))\n",
        "\n",
        "    st = ' '.join(final_token)\n",
        "    return st\n",
        "\n",
        "\n",
        "def label_encoder(d):\n",
        "    if 'N' in d: return 0\n",
        "    else: return 1\n",
        "\n",
        "def main():\n",
        "    # X_test = pd.read_csv('/content/drive/MyDrive/CSE440 Project/testset-levela.tsv', sep = '\\t')\n",
        "    # y_test = pd.read_csv('/content/drive/MyDrive/CSE440 Project/labels-levela.csv')\n",
        "    # y_test.OFF = y_test.OFF.apply(label_encoder)\n",
        "    # X_test['tweet'] = X_test.tweet.apply(preprocessingTraditionalLANG)\n",
        "    \n",
        "    # X_train = pd.read_csv('/content/drive/MyDrive/CSE440 Project/X_train.csv')\n",
        "    # X_valid = pd.read_csv('/content/drive/MyDrive/CSE440 Project/X_valid.csv')\n",
        "    # y_train = pd.read_csv('/content/drive/MyDrive/CSE440 Project/y_train.csv')\n",
        "    # y_valid = pd.read_csv('/content/drive/MyDrive/CSE440 Project/y_valid.csv')\n",
        "\n",
        "    df = pd.read_csv('/content/drive/MyDrive/CSE440 Project/olid-training-v1.0.tsv', sep='\\t')\n",
        "    df.subtask_a = df.subtask_a.apply(label_encoder)\n",
        "    y = df.subtask_a\n",
        "    # Took this code snippet from https://github.com/shabbirg89/Youtube-2021/blob/main/Multiclass_Text_Classifier_LSTM.ipynb\n",
        "    maxWord = 10000\n",
        "    maxSeqLength = 120\n",
        "    EMBEDDING_DIM = 300\n",
        "    punctuations = string.punctuation\n",
        "\n",
        "    tokenizer = Tokenizer(num_words=maxWord, filters=punctuations, lower=True)\n",
        "    tokenizer.fit_on_texts(df['tweet'].values)\n",
        "    word_index = tokenizer.word_index\n",
        "    print('Found %s unique tokens.' % len(word_index))\n",
        "\n",
        "    X = tokenizer.texts_to_sequences(df['tweet'].values)\n",
        "    X = pad_sequences(X, maxlen=maxSeqLength)\n",
        "    print('Shape of data tensor:', X.shape)\n",
        "    y = pd.get_dummies(y).values\n",
        "    X_train, X_test, y_train, y_test = train_test_split(X, y, test_size = 0.10, random_state = 42)\n",
        "    print(X_train.shape,y_train.shape)\n",
        "    print(X_test.shape,y_test.shape)\n",
        "\n",
        "\n",
        "    # Own Architeucture \n",
        "    with tpu_strategy.scope():\n",
        "        model = Sequential()\n",
        "        model.add(Embedding(maxWord, EMBEDDING_DIM, input_length=X.shape[1]))\n",
        "        model.add(Bidirectional(LSTM(300, dropout=0.2, recurrent_dropout=0.2)))\n",
        "        model.add(Dense(512, activation='softmax'))\n",
        "        model.add(Dense(256, activation='softmax'))\n",
        "        model.add(Dropout(0.2))\n",
        "        model.add(Dense(128, activation='softmax'))\n",
        "        model.add(Dropout(0.2))\n",
        "        model.add(Dense(64, activation='softmax'))\n",
        "        model.add(Dropout(0.2))\n",
        "        model.add(Dense(2, activation='softmax'))\n",
        "        model.compile(loss='categorical_crossentropy', optimizer='adam', metrics=['accuracy'])\n",
        "    print(model.summary())\n",
        "\n",
        "    epochs = 150\n",
        "    batch_size = 64*tpu_strategy.num_replicas_in_sync\n",
        "    history = model.fit(X_train, y_train, epochs=epochs, batch_size=batch_size,validation_split=0.1,callbacks=[EarlyStopping(monitor='val_loss', patience=2, min_delta=0.0001)])\n",
        "    accr = model.evaluate(X_test,y_test)\n",
        "    print('Test set\\n  Loss: {:0.3f}\\n  Accuracy: {:0.3f}'.format(accr[0],accr[1]))\n",
        "    return model"
      ],
      "metadata": {
        "colab": {
          "base_uri": "https://localhost:8080/"
        },
        "id": "DoiPE70gweOI",
        "outputId": "3f86566e-d698-4ada-efe0-22a5123989c3"
      },
      "execution_count": 33,
      "outputs": [
        {
          "output_type": "stream",
          "name": "stdout",
          "text": [
            "[nltk_data] Downloading package stopwords to /root/nltk_data...\n",
            "[nltk_data]   Package stopwords is already up-to-date!\n",
            "[nltk_data] Downloading package wordnet to /root/nltk_data...\n",
            "[nltk_data]   Package wordnet is already up-to-date!\n"
          ]
        }
      ]
    },
    {
      "cell_type": "code",
      "source": [
        "model = main()"
      ],
      "metadata": {
        "id": "Jmfql_Qe0a_R",
        "colab": {
          "base_uri": "https://localhost:8080/"
        },
        "outputId": "9bbc805e-9258-4100-e3b8-a443b462f121"
      },
      "execution_count": 34,
      "outputs": [
        {
          "output_type": "stream",
          "name": "stdout",
          "text": [
            "Found 20790 unique tokens.\n",
            "Shape of data tensor: (13240, 120)\n",
            "(11916, 120) (11916, 2)\n",
            "(1324, 120) (1324, 2)\n",
            "Model: \"sequential_9\"\n",
            "_________________________________________________________________\n",
            " Layer (type)                Output Shape              Param #   \n",
            "=================================================================\n",
            " embedding_9 (Embedding)     (None, 120, 300)          3000000   \n",
            "                                                                 \n",
            " bidirectional_11 (Bidirecti  (None, 600)              1442400   \n",
            " onal)                                                           \n",
            "                                                                 \n",
            " dense_36 (Dense)            (None, 512)               307712    \n",
            "                                                                 \n",
            " dense_37 (Dense)            (None, 256)               131328    \n",
            "                                                                 \n",
            " dropout_22 (Dropout)        (None, 256)               0         \n",
            "                                                                 \n",
            " dense_38 (Dense)            (None, 128)               32896     \n",
            "                                                                 \n",
            " dropout_23 (Dropout)        (None, 128)               0         \n",
            "                                                                 \n",
            " dense_39 (Dense)            (None, 64)                8256      \n",
            "                                                                 \n",
            " dropout_24 (Dropout)        (None, 64)                0         \n",
            "                                                                 \n",
            " dense_40 (Dense)            (None, 2)                 130       \n",
            "                                                                 \n",
            "=================================================================\n",
            "Total params: 4,922,722\n",
            "Trainable params: 4,922,722\n",
            "Non-trainable params: 0\n",
            "_________________________________________________________________\n",
            "None\n",
            "Epoch 1/150\n",
            "21/21 [==============================] - 31s 806ms/step - loss: 0.6914 - accuracy: 0.5413 - val_loss: 0.6836 - val_accuracy: 0.6745\n",
            "Epoch 2/150\n",
            "21/21 [==============================] - 4s 201ms/step - loss: 0.6779 - accuracy: 0.6699 - val_loss: 0.6706 - val_accuracy: 0.6745\n",
            "Epoch 3/150\n",
            "21/21 [==============================] - 4s 201ms/step - loss: 0.6665 - accuracy: 0.6699 - val_loss: 0.6604 - val_accuracy: 0.6745\n",
            "Epoch 4/150\n",
            "21/21 [==============================] - 4s 200ms/step - loss: 0.6578 - accuracy: 0.6699 - val_loss: 0.6523 - val_accuracy: 0.6745\n",
            "Epoch 5/150\n",
            "21/21 [==============================] - 4s 202ms/step - loss: 0.6508 - accuracy: 0.6699 - val_loss: 0.6463 - val_accuracy: 0.6745\n",
            "Epoch 6/150\n",
            "21/21 [==============================] - 4s 203ms/step - loss: 0.6460 - accuracy: 0.6699 - val_loss: 0.6418 - val_accuracy: 0.6745\n",
            "Epoch 7/150\n",
            "21/21 [==============================] - 4s 201ms/step - loss: 0.6420 - accuracy: 0.6699 - val_loss: 0.6383 - val_accuracy: 0.6745\n",
            "Epoch 8/150\n",
            "21/21 [==============================] - 4s 204ms/step - loss: 0.6395 - accuracy: 0.6699 - val_loss: 0.6360 - val_accuracy: 0.6745\n",
            "Epoch 9/150\n",
            "21/21 [==============================] - 4s 202ms/step - loss: 0.6375 - accuracy: 0.6699 - val_loss: 0.6343 - val_accuracy: 0.6745\n",
            "Epoch 10/150\n",
            "21/21 [==============================] - 4s 202ms/step - loss: 0.6362 - accuracy: 0.6699 - val_loss: 0.6331 - val_accuracy: 0.6745\n",
            "Epoch 11/150\n",
            "21/21 [==============================] - 4s 202ms/step - loss: 0.6357 - accuracy: 0.6699 - val_loss: 0.6324 - val_accuracy: 0.6745\n",
            "Epoch 12/150\n",
            "21/21 [==============================] - 4s 201ms/step - loss: 0.6351 - accuracy: 0.6699 - val_loss: 0.6319 - val_accuracy: 0.6745\n",
            "Epoch 13/150\n",
            "21/21 [==============================] - 4s 201ms/step - loss: 0.6348 - accuracy: 0.6699 - val_loss: 0.6316 - val_accuracy: 0.6745\n",
            "Epoch 14/150\n",
            "21/21 [==============================] - 4s 200ms/step - loss: 0.6346 - accuracy: 0.6699 - val_loss: 0.6314 - val_accuracy: 0.6745\n",
            "Epoch 15/150\n",
            "21/21 [==============================] - 4s 203ms/step - loss: 0.6345 - accuracy: 0.6699 - val_loss: 0.6313 - val_accuracy: 0.6745\n",
            "Epoch 16/150\n",
            "21/21 [==============================] - 4s 201ms/step - loss: 0.6347 - accuracy: 0.6699 - val_loss: 0.6312 - val_accuracy: 0.6745\n",
            "Epoch 17/150\n",
            "21/21 [==============================] - 4s 202ms/step - loss: 0.6343 - accuracy: 0.6699 - val_loss: 0.6312 - val_accuracy: 0.6745\n",
            "Epoch 18/150\n",
            "21/21 [==============================] - 4s 200ms/step - loss: 0.6345 - accuracy: 0.6699 - val_loss: 0.6310 - val_accuracy: 0.6745\n",
            "Epoch 19/150\n",
            "21/21 [==============================] - 5s 222ms/step - loss: 0.6344 - accuracy: 0.6699 - val_loss: 0.6310 - val_accuracy: 0.6745\n",
            "Epoch 20/150\n",
            "21/21 [==============================] - 5s 223ms/step - loss: 0.6342 - accuracy: 0.6699 - val_loss: 0.6309 - val_accuracy: 0.6745\n",
            "42/42 [==============================] - 4s 57ms/step - loss: 0.6527 - accuracy: 0.6435\n",
            "Test set\n",
            "  Loss: 0.653\n",
            "  Accuracy: 0.644\n"
          ]
        }
      ]
    },
    {
      "cell_type": "markdown",
      "source": [
        "# Hybrid model\n",
        "\n",
        "My old work https://github.com/quaziadib/A-Deep-Hybrid-Learning-to-Detect-Bangla-Fake-News"
      ],
      "metadata": {
        "id": "f7Df03JKhte_"
      }
    },
    {
      "cell_type": "code",
      "source": [
        "import os\n",
        "os.environ[\"TF_CPP_MIN_LOG_LEVEL\"] = \"2\"\n",
        "import tensorflow as tf\n",
        "from tensorflow import keras\n",
        "from tensorflow.keras import layers\n",
        "import pandas as pd\n",
        "import numpy as np\n",
        "from sklearn.model_selection import train_test_split\n",
        "from sklearn.svm import SVC\n",
        "from tensorflow.keras.preprocessing.text import Tokenizer\n",
        "from tensorflow.keras.preprocessing.sequence import pad_sequences\n",
        "import tensorflow.keras.backend as K\n",
        "from tensorflow.keras.models import load_model\n",
        "\n",
        "physical_devices = tf.config.list_physical_devices('GPU')\n",
        "tf.config.experimental.set_memory_growth(physical_devices[0], True)\n",
        "\n",
        "\n",
        "X_train, X_test, y_train, y_test = pd.read_csv('/content/drive/MyDrive/CSE440 Project/Preprocessing_Trans/X_train_trans.csv'), pd.read_csv('/content/drive/MyDrive/CSE440 Project/Preprocessing_Trans/X_valid_trans.csv'), pd.read_csv('/content/drive/MyDrive/CSE440 Project/Preprocessing_Trans/y_train.csv'), pd.read_csv('/content/drive/MyDrive/CSE440 Project/Preprocessing_Trans/y_valid.csv')\n",
        "X_train = X_train.tweet.values\n",
        "X_test = X_test.tweet.values\n",
        "\n",
        "y_train = y_train.subtask_a.values\n",
        "y_test = y_test.subtask_a.values\n",
        "\n",
        "def createModel():\n",
        "    model = keras.Sequential()\n",
        "    model.add(layers.Embedding(vocab_size, embedding_dim, input_length=maxlen))\n",
        "    model.add(layers.Conv1D(256, 5, activation='relu'))\n",
        "    model.add(layers.MaxPooling1D())\n",
        "    model.add(layers.Flatten())\n",
        "    model.add(layers.Dense(512, activation='relu'))\n",
        "    model.add(layers.Dense(64, activation='relu'))\n",
        "    model.add(layers.Dense(1, activation='softmax'))\n",
        "    return model\n",
        "\n",
        "def f1_metric(y_true, y_pred):\n",
        "    true_positives = K.sum(K.round(K.clip(y_true * y_pred, 0, 1)))\n",
        "    possible_positives = K.sum(K.round(K.clip(y_true, 0, 1)))\n",
        "    predicted_positives = K.sum(K.round(K.clip(y_pred, 0, 1)))\n",
        "    precision = true_positives / (predicted_positives + K.epsilon())\n",
        "    recall = true_positives / (possible_positives + K.epsilon())\n",
        "    f1_val = 2*(precision*recall)/(precision+recall+K.epsilon())\n",
        "    return f1_val\n",
        "\n",
        "puncList = [\"।\", \"”\", \"“\", \"’\"]\n",
        "x = \"\".join(puncList)\n",
        "filterString = x + '!\"#$%&()*+,-./:;<=>?@[\\\\]^_`{|}~\\t\\n০১২৩৪৫৬৭৮৯'\n",
        "tokenizer = Tokenizer(filters=filterString, lower=False,oov_token='<OOV>')\n",
        "tokenizer.fit_on_texts(X_train)\n",
        "X_train = tokenizer.texts_to_sequences(X_train)\n",
        "X_test = tokenizer.texts_to_sequences(X_test)\n",
        "\n",
        "vocab_size = len(tokenizer.word_index)+1\n",
        "maxlen = 800\n",
        "X_train = pad_sequences(X_train, padding='post', maxlen=maxlen)\n",
        "X_test = pad_sequences(X_test, padding='post', maxlen=maxlen)\n",
        "    \n",
        "embedding_dim = 100\n",
        "model = createModel()\n",
        "model.compile(optimizer='adam', loss='binary_crossentropy', metrics=[f1_metric])\n",
        "history = model.fit(X_train, y_train,epochs=10, batch_size=64)\n",
        "model = keras.Model(inputs = model.inputs, outputs = [model.layers[-2].output])\n",
        "\n",
        "\n",
        "    \n",
        "X_train = model.predict(X_train)\n",
        "X_test = model.predict(X_test)\n",
        "\n",
        "\n",
        "X_train = pd.DataFrame(X_train)\n",
        "X_test = pd.DataFrame(X_test)\n"
      ],
      "metadata": {
        "colab": {
          "base_uri": "https://localhost:8080/"
        },
        "id": "nd8YyVzma0SJ",
        "outputId": "f36b2610-520b-4009-c027-7e553c05c2c3"
      },
      "execution_count": 15,
      "outputs": [
        {
          "output_type": "stream",
          "name": "stdout",
          "text": [
            "Epoch 1/10\n",
            "166/166 [==============================] - 9s 33ms/step - loss: 0.6152 - f1_metric: 0.4906\n",
            "Epoch 2/10\n",
            "166/166 [==============================] - 6s 37ms/step - loss: 0.3636 - f1_metric: 0.4919\n",
            "Epoch 3/10\n",
            "166/166 [==============================] - 6s 37ms/step - loss: 0.1135 - f1_metric: 0.4918\n",
            "Epoch 4/10\n",
            "166/166 [==============================] - 6s 37ms/step - loss: 0.0315 - f1_metric: 0.4917\n",
            "Epoch 5/10\n",
            "166/166 [==============================] - 6s 36ms/step - loss: 0.0175 - f1_metric: 0.4927\n",
            "Epoch 6/10\n",
            "166/166 [==============================] - 6s 36ms/step - loss: 0.0080 - f1_metric: 0.4922\n",
            "Epoch 7/10\n",
            "166/166 [==============================] - 6s 35ms/step - loss: 0.0043 - f1_metric: 0.4917\n",
            "Epoch 8/10\n",
            "166/166 [==============================] - 6s 35ms/step - loss: 0.0037 - f1_metric: 0.4933\n",
            "Epoch 9/10\n",
            "166/166 [==============================] - 5s 32ms/step - loss: 0.0031 - f1_metric: 0.4923\n",
            "Epoch 10/10\n",
            "166/166 [==============================] - 5s 32ms/step - loss: 0.0024 - f1_metric: 0.4918\n"
          ]
        }
      ]
    },
    {
      "cell_type": "code",
      "source": [
        "import numpy as np\n",
        "import pandas as pd\n",
        "from sklearn.svm import LinearSVC\n",
        "import matplotlib.pyplot as plt\n",
        "import seaborn as sns\n",
        "from sklearn.ensemble import RandomForestClassifier\n",
        "from sklearn.neighbors import KNeighborsClassifier\n",
        "from sklearn.tree import DecisionTreeClassifier\n",
        "from sklearn.ensemble import AdaBoostClassifier\n",
        "from sklearn.metrics import accuracy_score, f1_score, recall_score, precision_score, confusion_matrix, classification_report\n",
        "# import pickle\n",
        "\n",
        "print('-'*10)\n",
        "print('SVC')\n",
        "svc = LinearSVC()\n",
        "svc.fit(X_train, y_train)\n",
        "preds = svc.predict(X_test)\n",
        "cm = confusion_matrix(y_test, preds)\n",
        "plt.figure(figsize=(8, 6))\n",
        "plt.title('Confusion Matrix', size=16)\n",
        "sns.heatmap(cm, annot=True, cmap='Blues')\n",
        "plt.show()\n",
        "report = classification_report(y_test, preds, output_dict=True)\n",
        "true = report['1']\n",
        "fake = report['0']\n",
        "overall = {\"Accuracy\": accuracy_score(y_test, preds), \"recall\": recall_score(y_test, preds),\n",
        "               \"f1-score\": f1_score(y_test, preds), \"precision\": precision_score(y_test, preds) }\n",
        "\n",
        "# model_path = \"saved_models/svc_det_only.pkl\"\n",
        "# pickle.dump(svc, open(model_path, 'wb'))\n",
        "    \n",
        "print(\"True:\", true)\n",
        "print(\"Fake:\", fake)\n",
        "print(\"Overall:\", overall)\n",
        "\n",
        "# X_train = pd.read_csv('XTrain.csv')\n",
        "# X_test = pd.read_csv('XTest.csv')\n",
        "# y_train = pd.read_csv('ytrain.csv')\n",
        "# y_test = pd.read_csv('ytest.csv')\n",
        "\n",
        "\n",
        "print('-'*10)\n",
        "print('RandomForestClassifier')\n",
        "rfc = RandomForestClassifier()\n",
        "rfc.fit(X_train, y_train)\n",
        "preds = rfc.predict(X_test)\n",
        "cm = confusion_matrix(y_test, preds)\n",
        "plt.figure(figsize=(8, 6))\n",
        "plt.title('Confusion Matrix', size=16)\n",
        "sns.heatmap(cm, annot=True, cmap='Blues')\n",
        "plt.show()\n",
        "report = classification_report(y_test, preds, output_dict=True)\n",
        "true = report['1']\n",
        "fake = report['0']\n",
        "overall = {\"Accuracy\": accuracy_score(y_test, preds), \"recall\": recall_score(y_test, preds),\n",
        "               \"f1-score\": f1_score(y_test, preds), \"precision\": precision_score(y_test, preds) }\n",
        "\n",
        "# # model_path = \"saved_models/random_forest_det_only.pkl\"\n",
        "# # pickle.dump(rfc, open(model_path, 'wb'))\n",
        "\n",
        "print(\"True:\", true)\n",
        "print(\"Fake:\", fake)\n",
        "print(\"Overall:\", overall)\n",
        "      \n",
        "    \n",
        "print('-'*10)\n",
        "print('DecisionTreeClassifier')\n",
        "dtc = DecisionTreeClassifier()\n",
        "dtc.fit(X_train, y_train)\n",
        "preds = dtc.predict(X_test)\n",
        "cm = confusion_matrix(y_test, preds)\n",
        "plt.figure(figsize=(8, 6))\n",
        "plt.title('Confusion Matrix', size=16)\n",
        "sns.heatmap(cm, annot=True, cmap='Blues')\n",
        "plt.show()\n",
        "report = classification_report(y_test, preds, output_dict=True)\n",
        "true = report['1']\n",
        "fake = report['0']\n",
        "overall = {\"Accuracy\": accuracy_score(y_test, preds), \"recall\": recall_score(y_test, preds),\n",
        "               \"f1-score\": f1_score(y_test, preds), \"precision\": precision_score(y_test, preds) }\n",
        "\n",
        "# # model_path = \"saved_models/decision_tree_det_only.pkl\"\n",
        "# # pickle.dump(dtc, open(model_path, 'wb'))\n",
        "    \n",
        "print(\"True:\", true)\n",
        "print(\"Fake:\", fake)\n",
        "print(\"Overall:\", overall)\n",
        "\n",
        "  \n",
        "print('-'*10)\n",
        "print('AdaBoostClassifier')\n",
        "abc = AdaBoostClassifier()\n",
        "abc.fit(X_train, y_train)\n",
        "preds = abc.predict(X_test)\n",
        "cm = confusion_matrix(y_test, preds)\n",
        "plt.figure(figsize=(8, 6))\n",
        "plt.title('Confusion Matrix', size=16)\n",
        "sns.heatmap(cm, annot=True, cmap='Blues')\n",
        "plt.show()\n",
        "report = classification_report(y_test, preds, output_dict=True)\n",
        "true = report['1']\n",
        "fake = report['0']\n",
        "overall = {\"Accuracy\": accuracy_score(y_test, preds), \"recall\": recall_score(y_test, preds),\n",
        "               \"f1-score\": f1_score(y_test, preds), \"precision\": precision_score(y_test, preds) }\n",
        "\n",
        "# model_path = \"saved_models/ada_boosting_det_only.pkl\"\n",
        "# pickle.dump(abc, open(model_path, 'wb'))\n",
        "\n",
        "print(\"True:\", true)\n",
        "print(\"Fake:\", fake)\n",
        "print(\"Overall:\", overall)\n",
        "  \n",
        "\n",
        "    \n",
        "\n",
        "print('-'*10)\n",
        "print('KNN')\n",
        "knn = KNeighborsClassifier(n_neighbors=2)\n",
        "knn.fit(X_train, y_train)\n",
        "preds = knn.predict(X_test)\n",
        "prec = precision_score(y_test, preds)\n",
        "f1score = f1_score(y_test, preds)\n",
        "\n",
        "cm = confusion_matrix(y_test, preds)\n",
        "plt.figure(figsize=(8, 6))\n",
        "plt.title('Confusion Matrix', size=16)\n",
        "sns.heatmap(cm, annot=True, cmap='Blues')\n",
        "plt.show()\n",
        "report = classification_report(y_test, preds, output_dict=True)\n",
        "true = report['1']\n",
        "fake = report['0']\n",
        "\n",
        "overall = {\"Accuracy\": accuracy_score(y_test, preds), \"recall\": recall_score(y_test, preds),\n",
        "               \"f1-score\": f1_score(y_test, preds), \"precision\": precision_score(y_test, preds) }\n",
        "\n",
        "# model_path = \"saved_models/knn_det_only.pkl\"\n",
        "# pickle.dump(knn, open(model_path, 'wb'))\n",
        "    \n",
        "print(\"True:\", true)\n",
        "print(\"Fake:\", fake)\n",
        "print(\"Overall:\", overall)\n"
      ],
      "metadata": {
        "colab": {
          "base_uri": "https://localhost:8080/",
          "height": 1000
        },
        "id": "qN384oBLgQz0",
        "outputId": "891a62e4-1f38-4455-94bb-9afa61f4ee2d"
      },
      "execution_count": 16,
      "outputs": [
        {
          "output_type": "stream",
          "name": "stdout",
          "text": [
            "----------\n",
            "SVC\n"
          ]
        },
        {
          "output_type": "display_data",
          "data": {
            "text/plain": [
              "<Figure size 576x432 with 2 Axes>"
            ],
            "image/png": "[encoded data removed]"
          },
          "metadata": {
            "needs_background": "light"
          }
        },
        {
          "output_type": "stream",
          "name": "stdout",
          "text": [
            "True: {'precision': 0.5388046387154326, 'recall': 0.6601092896174864, 'f1-score': 0.593320235756385, 'support': 915}\n",
            "Fake: {'precision': 0.796332678454486, 'recall': 0.7016733987305251, 'f1-score': 0.7460122699386504, 'support': 1733}\n",
            "Overall: {'Accuracy': 0.6873111782477341, 'recall': 0.6601092896174864, 'f1-score': 0.593320235756385, 'precision': 0.5388046387154326}\n",
            "----------\n",
            "RandomForestClassifier\n"
          ]
        },
        {
          "output_type": "display_data",
          "data": {
            "text/plain": [
              "<Figure size 576x432 with 2 Axes>"
            ],
            "image/png": "[encoded data removed]"
          },
          "metadata": {
            "needs_background": "light"
          }
        },
        {
          "output_type": "stream",
          "name": "stdout",
          "text": [
            "True: {'precision': 0.5620229007633588, 'recall': 0.6437158469945355, 'f1-score': 0.6001018848700967, 'support': 915}\n",
            "Fake: {'precision': 0.79625, 'recall': 0.7351413733410271, 'f1-score': 0.7644764476447645, 'support': 1733}\n",
            "Overall: {'Accuracy': 0.7035498489425982, 'recall': 0.6437158469945355, 'f1-score': 0.6001018848700967, 'precision': 0.5620229007633588}\n",
            "----------\n",
            "DecisionTreeClassifier\n"
          ]
        },
        {
          "output_type": "display_data",
          "data": {
            "text/plain": [
              "<Figure size 576x432 with 2 Axes>"
            ],
            "image/png": "[encoded data removed]"
          },
          "metadata": {
            "needs_background": "light"
          }
        },
        {
          "output_type": "stream",
          "name": "stdout",
          "text": [
            "True: {'precision': 0.5590994371482176, 'recall': 0.6513661202185792, 'f1-score': 0.601716304896517, 'support': 915}\n",
            "Fake: {'precision': 0.7983565107458913, 'recall': 0.7287939988459319, 'f1-score': 0.7619909502262443, 'support': 1733}\n",
            "Overall: {'Accuracy': 0.7020392749244713, 'recall': 0.6513661202185792, 'f1-score': 0.601716304896517, 'precision': 0.5590994371482176}\n",
            "----------\n",
            "AdaBoostClassifier\n"
          ]
        },
        {
          "output_type": "display_data",
          "data": {
            "text/plain": [
              "<Figure size 576x432 with 2 Axes>"
            ],
            "image/png": "[encoded data removed]"
          },
          "metadata": {
            "needs_background": "light"
          }
        },
        {
          "output_type": "stream",
          "name": "stdout",
          "text": [
            "True: {'precision': 0.5614552605703048, 'recall': 0.6240437158469946, 'f1-score': 0.5910973084886129, 'support': 915}\n",
            "Fake: {'precision': 0.789086450030656, 'recall': 0.7426428159261397, 'f1-score': 0.7651605231866826, 'support': 1733}\n",
            "Overall: {'Accuracy': 0.7016616314199395, 'recall': 0.6240437158469946, 'f1-score': 0.5910973084886129, 'precision': 0.5614552605703048}\n",
            "----------\n",
            "KNN\n"
          ]
        },
        {
          "output_type": "display_data",
          "data": {
            "text/plain": [
              "<Figure size 576x432 with 2 Axes>"
            ],
            "image/png": "[encoded data removed]"
          },
          "metadata": {
            "needs_background": "light"
          }
        },
        {
          "output_type": "stream",
          "name": "stdout",
          "text": [
            "True: {'precision': 0.5908584169453734, 'recall': 0.5792349726775956, 'f1-score': 0.5849889624724062, 'support': 915}\n",
            "Fake: {'precision': 0.7801256424900057, 'recall': 0.7882285054818234, 'f1-score': 0.7841561423650976, 'support': 1733}\n",
            "Overall: {'Accuracy': 0.716012084592145, 'recall': 0.5792349726775956, 'f1-score': 0.5849889624724062, 'precision': 0.5908584169453734}\n"
          ]
        }
      ]
    }
  ],
  "metadata": {
    "colab": {
      "collapsed_sections": [],
      "name": "OffensiveLanguageDetection.ipynb",
      "provenance": []
    },
    "kernelspec": {
      "display_name": "Python 3",
      "name": "python3"
    },
    "language_info": {
      "name": "python"
    },
    "accelerator": "GPU"
  },
  "nbformat": 4,
  "nbformat_minor": 0
}